{
 "cells": [
  {
   "cell_type": "code",
   "execution_count": 4,
   "id": "6d53a289",
   "metadata": {},
   "outputs": [],
   "source": [
    "import os\n",
    "import shutil"
   ]
  },
  {
   "cell_type": "code",
   "execution_count": 5,
   "id": "b0385547",
   "metadata": {},
   "outputs": [],
   "source": [
    "def filter_and_copy_images_and_labels(label_dir, image_dir, output_dir, desired_class):\n",
    "    # Create output directories for images and labels if they don't exist\n",
    "    image_output_dir = os.path.join(output_dir, \"images\")\n",
    "    label_output_dir = os.path.join(output_dir, \"labels\")\n",
    "    os.makedirs(image_output_dir, exist_ok=True)\n",
    "    os.makedirs(label_output_dir, exist_ok=True)\n",
    "\n",
    "    # List all label files and image files\n",
    "    label_files = [file for file in os.listdir(label_dir) if file.endswith('.txt')]\n",
    "    image_files = [file for file in os.listdir(image_dir) if file.endswith(('.jpg', '.png'))]\n",
    "\n",
    "    # Create a set to store image filenames\n",
    "    image_filenames = set(image_files)\n",
    "\n",
    "    # Process and copy labels\n",
    "    for label_file_name in label_files:\n",
    "        label_path = os.path.join(label_dir, label_file_name)\n",
    "        image_name = label_file_name.replace('.txt', '')  # Remove the extension\n",
    "\n",
    "        # Check for both JPG and PNG image files\n",
    "        jpg_image_path = os.path.join(image_dir, f\"{image_name}.jpg\")\n",
    "        png_image_path = os.path.join(image_dir, f\"{image_name}.png\")\n",
    "\n",
    "        # Determine the image path based on availability\n",
    "        if os.path.exists(jpg_image_path):\n",
    "            image_path = jpg_image_path\n",
    "        elif os.path.exists(png_image_path):\n",
    "            image_path = png_image_path\n",
    "        else:\n",
    "            print(f\"Image file not found for label: {label_file_name}\")\n",
    "            continue\n",
    "\n",
    "        try:\n",
    "            with open(label_path, 'r') as label_file:\n",
    "                lines = label_file.readlines()\n",
    "        except FileNotFoundError:\n",
    "            print(f\"Label file not found: {label_path}\")\n",
    "            continue\n",
    "\n",
    "        filtered_lines = []\n",
    "        for line in lines:\n",
    "            class_id, *bbox = line.strip().split()\n",
    "            if class_id == desired_class:\n",
    "                filtered_lines.append(line)\n",
    "\n",
    "        if filtered_lines:\n",
    "            # Write the filtered label file to the label output directory\n",
    "            filtered_label_file_name = label_file_name\n",
    "            filtered_label_path = os.path.join(label_output_dir, filtered_label_file_name)\n",
    "            with open(filtered_label_path, 'w') as filtered_label_file:\n",
    "                filtered_label_file.writelines(filtered_lines)\n",
    "\n",
    "            # Copy the corresponding image to the image output directory\n",
    "            try:\n",
    "                shutil.copy(image_path, os.path.join(image_output_dir, f\"{image_name}{os.path.splitext(image_path)[-1]}\"))\n",
    "            except FileNotFoundError:\n",
    "                print(f\"Image file not found: {image_path}\")\n",
    "\n",
    "    # Remove orphaned label files (label files with no corresponding images)\n",
    "    for label_file_name in label_files:\n",
    "        if label_file_name.replace('.txt', '') not in [os.path.splitext(image_file)[0] for image_file in image_files]:\n",
    "            os.remove(os.path.join(label_dir, label_file_name))\n",
    "\n",
    "    print(\"Filtering, copying, and cleaning complete.\")"
   ]
  },
  {
   "cell_type": "code",
   "execution_count": 7,
   "id": "44f5af7c",
   "metadata": {},
   "outputs": [],
   "source": [
    "def change_class_label(label_dir, desired_class, new_class):\n",
    "    # List all label files\n",
    "    label_files = [file for file in os.listdir(label_dir) if file.endswith('.txt')]\n",
    "\n",
    "    for label_file_name in label_files:\n",
    "        label_path = os.path.join(label_dir, label_file_name)\n",
    "\n",
    "        try:\n",
    "            with open(label_path, 'r') as label_file:\n",
    "                lines = label_file.readlines()\n",
    "        except FileNotFoundError:\n",
    "            print(f\"Label file not found: {label_path}\")\n",
    "            continue\n",
    "\n",
    "        updated_lines = []\n",
    "        for line in lines:\n",
    "            class_id, *bbox = line.strip().split()\n",
    "            if class_id == desired_class:\n",
    "                # Replace the class ID with the new class label\n",
    "                updated_line = f\"{new_class} {' '.join(bbox)}\"\n",
    "                updated_lines.append(updated_line)\n",
    "            else:\n",
    "                updated_lines.append(line)\n",
    "\n",
    "        # Write the updated label file\n",
    "        with open(label_path, 'w') as label_file:\n",
    "            label_file.writelines(updated_lines)\n",
    "\n",
    "    print(f\"Class label '{desired_class}' changed to '{new_class}' in label files.\")"
   ]
  },
  {
   "cell_type": "code",
   "execution_count": 11,
   "id": "dae39870",
   "metadata": {},
   "outputs": [
    {
     "name": "stdout",
     "output_type": "stream",
     "text": [
      "Class label '5' changed to '0' in label files.\n"
     ]
    }
   ],
   "source": [
    "# Define the desired class name and the new class name\n",
    "desired_class = \"5\"\n",
    "new_class = \"0\"\n",
    "\n",
    "# Directory paths for your dataset\n",
    "image_dir = \"./Dataset/Table Dataset/valid/images\"\n",
    "label_dir = \"./Dataset/Table Dataset/valid/labels\"\n",
    "output_dir = \"./Dataset/Table Dataset/New_Train/valid\"\n",
    "\n",
    "# filter_and_copy_images_and_labels(label_dir, image_dir, output_dir, desired_class)\n",
    "change_class_label(label_dir, desired_class, new_class)"
   ]
  },
  {
   "cell_type": "code",
   "execution_count": null,
   "id": "cf85009f",
   "metadata": {},
   "outputs": [],
   "source": []
  }
 ],
 "metadata": {
  "kernelspec": {
   "display_name": "Python 3 (ipykernel)",
   "language": "python",
   "name": "python3"
  },
  "language_info": {
   "codemirror_mode": {
    "name": "ipython",
    "version": 3
   },
   "file_extension": ".py",
   "mimetype": "text/x-python",
   "name": "python",
   "nbconvert_exporter": "python",
   "pygments_lexer": "ipython3",
   "version": "3.9.17"
  }
 },
 "nbformat": 4,
 "nbformat_minor": 5
}
